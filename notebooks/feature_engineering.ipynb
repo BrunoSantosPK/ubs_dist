{
 "cells": [
  {
   "cell_type": "code",
   "execution_count": 4,
   "metadata": {},
   "outputs": [],
   "source": [
    "import pandas as pd"
   ]
  },
  {
   "cell_type": "code",
   "execution_count": 34,
   "metadata": {},
   "outputs": [],
   "source": [
    "def create_dataset(base_path: str) -> None:\n",
    "    # Carrega bases que serão utilizadas para processamento\n",
    "    dataset = []\n",
    "    coordinates = pd.read_csv(f\"{base_path}/data/Sedes_Coordenadas_Municipios.csv\", sep=\";\")\n",
    "    ubs = pd.read_csv(f\"{base_path}/data/cadastro_estabelecimentos_cnes.csv\", sep=\";\").dropna()\n",
    "    codes = pd.read_csv(f\"{base_path}/data/Codigo_Nome_Municipios.txt\", sep=\";\", encoding = \"latin1\")\n",
    "\n",
    "    for i in range(0, len(ubs)):\n",
    "        # Busca dados da cidade nos datasets base\n",
    "        city_code = ubs[\"IBGE\"].values[i]\n",
    "        subcodes = codes.loc[codes[\"CODIGO MUNICIPIO\"] == city_code]\n",
    "        subcoords = coordinates.loc[coordinates[\"CODIGO MUNICIPIO\"] == city_code]\n",
    "\n",
    "        if len(subcodes) == 0 or len(subcoords) == 0:\n",
    "            continue\n",
    "\n",
    "        # Acessa API do IBGE para encontrar a população atual do estado\n",
    "\n",
    "        # Estrutura dados que compõe dataset final\n",
    "        dataset.append({\n",
    "            \"UBS_LON\": ubs[\"LONGITUDE\"].values[i],\n",
    "            \"UBS_LAT\": ubs[\"LATITUDE\"].values[i],\n",
    "            \"UF\": subcodes[\"UF\"].values[0],\n",
    "            \"CITY\": subcodes[\"NOME MUNICIPIO\"].values[0],\n",
    "            \"CITY_LON\": subcoords[\"LONGITUDE\"].values[0],\n",
    "            \"CITY_LAT\": subcoords[\"LATITUDE\"].values[0]\n",
    "        })\n",
    "\n",
    "    pd.DataFrame(dataset).to_csv(f\"{base_path}/data/dataset.csv\", index=False)"
   ]
  },
  {
   "cell_type": "code",
   "execution_count": 36,
   "metadata": {},
   "outputs": [],
   "source": [
    "base_path = \"/media/bruno/Arquivos/Desenvolvimento/UBS\"\n",
    "create_dataset(base_path)"
   ]
  },
  {
   "cell_type": "code",
   "execution_count": null,
   "metadata": {},
   "outputs": [],
   "source": []
  },
  {
   "cell_type": "code",
   "execution_count": null,
   "metadata": {},
   "outputs": [],
   "source": []
  }
 ],
 "metadata": {
  "kernelspec": {
   "display_name": "Python 3.10.4 ('.venv': venv)",
   "language": "python",
   "name": "python3"
  },
  "language_info": {
   "codemirror_mode": {
    "name": "ipython",
    "version": 3
   },
   "file_extension": ".py",
   "mimetype": "text/x-python",
   "name": "python",
   "nbconvert_exporter": "python",
   "pygments_lexer": "ipython3",
   "version": "3.10.4"
  },
  "orig_nbformat": 4,
  "vscode": {
   "interpreter": {
    "hash": "8c488f20fc59cd17f5bb8ca4ec4f540538cc9f4ed39a5b7ee27da32e28a96bc0"
   }
  }
 },
 "nbformat": 4,
 "nbformat_minor": 2
}
