{
 "cells": [
  {
   "cell_type": "markdown",
   "metadata": {},
   "source": [
    "# Definições técnicas\n",
    "Para possibilidar o trabalho com os modelos definidos em src, o path de busca de módulos foi alterado para incluir o caminho do projeto, de modo que o servidor jupyter consiga acessar a pasta de scripts e recuperar os modelos para manipulação do banco de dados. Assim, **é de extrema importância para o funcionamento deste notebook a correta definição do path onde o projeto será executado**."
   ]
  },
  {
   "cell_type": "code",
   "execution_count": 21,
   "metadata": {},
   "outputs": [],
   "source": [
    "base_path = \"/media/bruno/Arquivos/Desenvolvimento/UBS\"\n",
    "\n",
    "import os\n",
    "import sys\n",
    "sys.path.append(base_path)\n",
    "\n",
    "import pandas as pd\n",
    "from dotenv import load_dotenv\n",
    "from src.models.city import City\n",
    "from src.database.connection import get_session"
   ]
  },
  {
   "cell_type": "markdown",
   "metadata": {},
   "source": [
    "Uma das principais necessidades para seguir com uma análise padronizada é fazer a ligação entre o ID de município utilizado nas bases e o ID original da API de localidades do IBGE. O processo abaixo se encarrega de fazer este link, utilizando uma padronização de nome por meio da radicalização disponível na biblioteca NLTK e implementada no model (orm) de cidade."
   ]
  },
  {
   "cell_type": "code",
   "execution_count": 23,
   "metadata": {},
   "outputs": [
    {
     "name": "stdout",
     "output_type": "stream",
     "text": [
      "Progresso de 100.0%\r"
     ]
    }
   ],
   "source": [
    "codes = pd.read_csv(f\"{base_path}/data/Codigo_Nome_Municipios.txt\", sep=\";\", encoding = \"latin1\")\n",
    "load_dotenv(f\"{base_path}/config/.env\")\n",
    "\n",
    "session = get_session()\n",
    "progress = 0\n",
    "try:\n",
    "    for i in range(0, len(codes)):\n",
    "        token = City.tokenize(codes[\"NOME MUNICIPIO\"].values[i])\n",
    "        session.query(City).filter_by(token=token).update({\n",
    "            \"data_city_id\": codes[\"CODIGO MUNICIPIO\"].values[i]\n",
    "        })\n",
    "        progress = round((i + 1) * 100 / len(codes), 2)\n",
    "        print(f\"Progresso de {progress}%\", end=\"\\r\")\n",
    "\n",
    "    session.commit()\n",
    "\n",
    "except BaseException as e:\n",
    "    print(e)\n",
    "\n",
    "finally:\n",
    "    session.close()"
   ]
  },
  {
   "cell_type": "code",
   "execution_count": null,
   "metadata": {},
   "outputs": [],
   "source": [
    "\n"
   ]
  },
  {
   "cell_type": "code",
   "execution_count": null,
   "metadata": {},
   "outputs": [],
   "source": []
  }
 ],
 "metadata": {
  "kernelspec": {
   "display_name": "Python 3.10.4 ('.venv': venv)",
   "language": "python",
   "name": "python3"
  },
  "language_info": {
   "codemirror_mode": {
    "name": "ipython",
    "version": 3
   },
   "file_extension": ".py",
   "mimetype": "text/x-python",
   "name": "python",
   "nbconvert_exporter": "python",
   "pygments_lexer": "ipython3",
   "version": "3.10.4"
  },
  "orig_nbformat": 4,
  "vscode": {
   "interpreter": {
    "hash": "8c488f20fc59cd17f5bb8ca4ec4f540538cc9f4ed39a5b7ee27da32e28a96bc0"
   }
  }
 },
 "nbformat": 4,
 "nbformat_minor": 2
}
